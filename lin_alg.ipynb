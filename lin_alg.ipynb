{
 "cells": [
  {
   "cell_type": "code",
   "execution_count": 1,
   "metadata": {},
   "outputs": [
    {
     "name": "stdout",
     "output_type": "stream",
     "text": [
      "74.0\n",
      "===============\n",
      "4.0\n",
      "===============\n",
      "[1, 1, 1, 2, 2]\n"
     ]
    }
   ],
   "source": [
    "sum = 0\n",
    "for i in range(1,1000):\n",
    "    sum += 50//float(i**2)\n",
    "print(sum)\n",
    "\n",
    "\n",
    "print(\"===============\")\n",
    "x = 4.5644\n",
    "print(x//1)\n",
    "\n",
    "print(\"===============\")\n",
    "#differnece between this and extend()?\n",
    "a = [1,1,1]\n",
    "b = [2,2]\n",
    "a += b\n",
    "print(a)"
   ]
  },
  {
   "cell_type": "code",
   "execution_count": 2,
   "metadata": {},
   "outputs": [],
   "source": [
    "matrix_A = [[6,4,1],\n",
    "            [8,5,3],\n",
    "            [12,4,7]]\n",
    "\n",
    "matrix_B = [[1,1,1],\n",
    "            [3,3,3],\n",
    "            [2,1,3]]\n",
    "\n",
    "matrix_I = [[1,0,0,0],\n",
    "            [0,1,0,0],\n",
    "            [0,0,1,0],\n",
    "            [0,0,0,1]]"
   ]
  },
  {
   "cell_type": "code",
   "execution_count": 3,
   "metadata": {},
   "outputs": [
    {
     "name": "stdout",
     "output_type": "stream",
     "text": [
      "[[1, 0, 0], [0, 1, 0], [0, 0, 1]]\n"
     ]
    }
   ],
   "source": [
    "## Determinant Calculator helper function\n",
    "# ----- Accepts a matrix and a column index, returns that matrix with row 1 and that column removed\n",
    "\n",
    "def reduce_matrix(matrix: list, col: int):\n",
    "    \n",
    "    if col >= len(matrix[0]) or col < 0:\n",
    "        print(\"Invalid index passed in argument\")\n",
    "        return\n",
    "    \n",
    "    ## Because det() traverses the top row, we will construct the reduced matrix \n",
    "    # by defining a new matrix without the top row and the passed column\n",
    "    ## Each sublist of the 2D list is a row\n",
    "    \n",
    "    return_matrix = []\n",
    "    row_matrix = []\n",
    "    for i in range(1,len(matrix)):\n",
    "        row_matrix = []\n",
    "        \n",
    "        for j in range(len(matrix[i])):\n",
    "            if j == col:\n",
    "                continue\n",
    "            else:\n",
    "                row_matrix.extend([matrix[i][j]])\n",
    "                \n",
    "            \n",
    "        return_matrix.append(row_matrix)\n",
    "    return return_matrix\n",
    "      \n",
    "\n",
    "print(reduce_matrix(matrix_I, 0))"
   ]
  },
  {
   "cell_type": "code",
   "execution_count": 4,
   "metadata": {},
   "outputs": [
    {
     "name": "stdout",
     "output_type": "stream",
     "text": [
      "1\n"
     ]
    }
   ],
   "source": [
    "## Determinant Calculator of n x n Matrix:\n",
    "\n",
    "def det(matrix) -> int:\n",
    "    \n",
    "    if len(matrix) != len(matrix[0]):\n",
    "        print(\"Matrix is not square\")\n",
    "        return\n",
    "\n",
    "    if len(matrix) == 1:\n",
    "        return matrix[0][0] # error here\n",
    "            \n",
    "    ## We will traverse across the top row\n",
    "    \n",
    "    temp = 0\n",
    "    for j in range(len(matrix)):\n",
    "        reduced = reduce_matrix(matrix,j)\n",
    "        temp += ((-1)**j)*(matrix[0][j] * det(reduced)) # error because of det(reduced)   \n",
    "    return temp\n",
    "        \n",
    "\n",
    "print(det(matrix_I))\n"
   ]
  },
  {
   "cell_type": "code",
   "execution_count": 5,
   "metadata": {},
   "outputs": [
    {
     "data": {
      "text/plain": [
       "True"
      ]
     },
     "execution_count": 5,
     "metadata": {},
     "output_type": "execute_result"
    }
   ],
   "source": [
    "def is_invertible(matrix):\n",
    "    if det(matrix) == 0:\n",
    "        return False\n",
    "    else:\n",
    "        return True\n",
    "    \n",
    "is_invertible(matrix_I)"
   ]
  },
  {
   "cell_type": "code",
   "execution_count": 6,
   "metadata": {},
   "outputs": [],
   "source": [
    "def calc_inverse(matrix):\n",
    "    pass\n",
    "\n",
    "def rref(matrix):\n",
    "    pass\n",
    "\n",
    "def calc_eigen(matrix):\n",
    "    pass\n",
    "\n",
    "# page rank -- value rank -- apply page rank to vector field where nodes are sources and sinks\n",
    "# creat classes as groups with defined operations\n",
    "# is_isomorphic(G1, G2) \n"
   ]
  },
  {
   "cell_type": "code",
   "execution_count": 7,
   "metadata": {},
   "outputs": [
    {
     "ename": "NameError",
     "evalue": "name 'Polynomial' is not defined",
     "output_type": "error",
     "traceback": [
      "\u001b[0;31m---------------------------------------------------------------------------\u001b[0m",
      "\u001b[0;31mNameError\u001b[0m                                 Traceback (most recent call last)",
      "Cell \u001b[0;32mIn[7], line 1\u001b[0m\n\u001b[0;32m----> 1\u001b[0m \u001b[39mclass\u001b[39;49;00m \u001b[39mPolynomial\u001b[39;49;00m:\n\u001b[1;32m      2\u001b[0m     \u001b[39mdef\u001b[39;49;00m \u001b[39m__init__\u001b[39;49m(\u001b[39mself\u001b[39;49m, degree: \u001b[39mint\u001b[39;49m, coeffs: \u001b[39mlist\u001b[39;49m):\n\u001b[1;32m      3\u001b[0m         \u001b[39mif\u001b[39;49;00m \u001b[39mlen\u001b[39;49m(coeffs) \u001b[39m!=\u001b[39;49m degree \u001b[39m+\u001b[39;49m \u001b[39m1\u001b[39;49m:\n",
      "Cell \u001b[0;32mIn[7], line 44\u001b[0m, in \u001b[0;36mPolynomial\u001b[0;34m()\u001b[0m\n\u001b[1;32m     38\u001b[0m     \u001b[39mreturn\u001b[39;00m \u001b[39msum\u001b[39m\n\u001b[1;32m     40\u001b[0m \u001b[39m# Need to run the class definition without add and mult function first because \u001b[39;00m\n\u001b[1;32m     41\u001b[0m \u001b[39m# these functions take in a Polynomial object as an argument. \u001b[39;00m\n\u001b[1;32m     42\u001b[0m \u001b[39m# This will be a problem for any binary operations. Seems like bad form to have to comment it out for first run.\u001b[39;00m\n\u001b[1;32m     43\u001b[0m \u001b[39m# '''\u001b[39;00m\n\u001b[0;32m---> 44\u001b[0m \u001b[39mdef\u001b[39;00m \u001b[39madd\u001b[39m(\u001b[39mself\u001b[39m, arg: Polynomial):\n\u001b[1;32m     46\u001b[0m     \u001b[39mif\u001b[39;00m \u001b[39mself\u001b[39m\u001b[39m.\u001b[39mdegree \u001b[39m>\u001b[39m\u001b[39m=\u001b[39m arg\u001b[39m.\u001b[39mdegree:\n\u001b[1;32m     47\u001b[0m         max_deg \u001b[39m=\u001b[39m \u001b[39mself\u001b[39m\u001b[39m.\u001b[39mdegree\n",
      "\u001b[0;31mNameError\u001b[0m: name 'Polynomial' is not defined"
     ]
    }
   ],
   "source": [
    "class Polynomial:\n",
    "    def __init__(self, degree: int, coeffs: list):\n",
    "        if len(coeffs) != degree + 1:\n",
    "            print(\"Invalid argument: A polynomial of degree n has n+1 coefficients\")\n",
    "        self.degree = degree\n",
    "        self.coeffs = coeffs\n",
    "\n",
    "        \n",
    "    def __str__(self):\n",
    "        temp = \"\"\n",
    "        if self.coeffs[0] == 1:\n",
    "            temp = f\"x^{self.degree}\"\n",
    "        else:\n",
    "            temp = f\"{self.coeffs[0]}x^{self.degree}\"\n",
    "        for i in range(1,self.degree - 1):\n",
    "            \n",
    "            if self.coeffs[i] == 1:\n",
    "                temp += f\" + x^{self.degree - i}\"\n",
    "                continue\n",
    "            if self.coeffs[i] == 0:\n",
    "                continue\n",
    "            \n",
    "            temp += f\" + {self.coeffs[i]}x^{self.degree - i}\"\n",
    "        \n",
    "        if self.coeffs[self.degree - 1] != 0:\n",
    "            if self.coeffs[self.degree - 1] != 1:\n",
    "                temp += f\" + {self.coeffs[self.degree - 1]}x\"\n",
    "            else:\n",
    "                temp += f\" + x\"\n",
    "        if self.coeffs[self.degree] != 0:\n",
    "            temp += f\" + {self.coeffs[self.degree]}\"\n",
    "        return temp\n",
    "    \n",
    "    def eval_at(self, value: int):\n",
    "        sum = 0\n",
    "        for i in range(self.degree + 1):\n",
    "            sum += self.coeffs[i]*(value**(self.degree-i))\n",
    "        return sum\n",
    "    \n",
    "    # Need to run the class definition without add and mult function first because \n",
    "    # these functions take in a Polynomial object as an argument. \n",
    "    # This will be a problem for any binary operations. Seems like bad form to have to comment it out for first run.\n",
    "    # '''\n",
    "    def add(self, arg: Polynomial):\n",
    "        \n",
    "        if self.degree >= arg.degree:\n",
    "            max_deg = self.degree\n",
    "            min_deg = arg.degree\n",
    "            max_poly = self\n",
    "            min_poly = arg\n",
    "        else:\n",
    "            max_deg = arg.degree\n",
    "            min_deg = self.degree\n",
    "            max_poly = arg\n",
    "            min_poly = self\n",
    "        \n",
    "        coeff_array = [0] * (max_deg + 1)\n",
    "        \n",
    "        for i in range(max_deg-min_deg):\n",
    "            coeff_array[i] = max_poly.coeffs[i]\n",
    "            \n",
    "        for n in range(min_deg+1):\n",
    "            coeff_array[n+(max_deg-min_deg)] = max_poly.coeffs[n+(max_deg-min_deg)] + min_poly.coeffs[n]\n",
    "            \n",
    "        sum = Polynomial(max_deg, coeff_array)\n",
    "        return sum\n",
    "    \n",
    "    \n",
    "    def mult(self, arg: Polynomial):\n",
    "        coeff_array = [0] * (self.degree + arg.degree + 1)\n",
    "        product = Polynomial(self.degree + arg.degree, coeff_array)\n",
    "        \n",
    "        current_power = 0\n",
    "        tmp_coeff = 0\n",
    "        for i in range(self.degree + 1):\n",
    "            \n",
    "            current_power = self.degree - i # power of current term of self, which is being multiplied\n",
    "            current_coeff_array = [0] * (current_power + arg.degree + 1)\n",
    "            current_prod = Polynomial(current_power + arg.degree, current_coeff_array)\n",
    "            \n",
    "            for j in range(arg.degree + 1):\n",
    "                tmp_coeff = self.coeffs[i] * arg.coeffs[j]\n",
    "                current_prod.coeffs[j] = tmp_coeff\n",
    "                \n",
    "                product = product.add(current_prod)\n",
    "            \n",
    "        return product\n",
    "    # '''\n",
    "        "
   ]
  },
  {
   "cell_type": "code",
   "execution_count": null,
   "metadata": {},
   "outputs": [
    {
     "name": "stdout",
     "output_type": "stream",
     "text": [
      "1008\n",
      "480\n",
      "46\n",
      "46\n"
     ]
    }
   ],
   "source": [
    "x1 = Polynomial(2, [5,6,7])\n",
    "x2 = Polynomial(3, [1,2,3,4])\n",
    "x3 = Polynomial(1, [4,5]) # error with print(): overlap in logic causes x^1 term printed twice\n",
    "x4 = Polynomial(1, [3,7])\n",
    "x5 = Polynomial(2, [1,5,6])\n",
    "# print(x4)\n",
    "# print(x5)\n",
    "\n",
    "print(x4.mult(x5).eval_at(3))\n",
    "print(x4.eval_at(3) * x5.eval_at(3))\n",
    "\n",
    "print(x4.add(x5).eval_at(3))\n",
    "print(x4.eval_at(3) + x5.eval_at(3))\n"
   ]
  },
  {
   "cell_type": "code",
   "execution_count": null,
   "metadata": {},
   "outputs": [],
   "source": [
    "# What would be sufficient for a \"linear algebra package\"?\n",
    "\n",
    "# Determinant Calculator\n",
    "# Eigenvector and Eigenvalue Calculator\n",
    "# Invertibility Checker\n",
    "# Inverse Calculator\n",
    "# Invertibility Checker\n",
    "# Orthogonality Checker\n",
    "# Orthonormal Checler\n",
    "# Diagonalizability Checker\n",
    "# Reducer to rref\n",
    "# Dimension calculator\n",
    "# Linear Dependence Checker of set of vectors\n",
    "# Inner Product Definition\n",
    "# Reducer to Basis from set of vectors (Gram-Schmidt Algorithm)\n",
    "# Normalizer of vectors\n",
    "# Linear System solver\n",
    "\n",
    "# Could I define a theorem checker? Given already defined theorems, check if the passed logic combination is also a theorem. If so, add to knowledge base. \n",
    "\n",
    "# Check if a vector (function) is an a vector space\n"
   ]
  }
 ],
 "metadata": {
  "kernelspec": {
   "display_name": "Python 3",
   "language": "python",
   "name": "python3"
  },
  "language_info": {
   "codemirror_mode": {
    "name": "ipython",
    "version": 3
   },
   "file_extension": ".py",
   "mimetype": "text/x-python",
   "name": "python",
   "nbconvert_exporter": "python",
   "pygments_lexer": "ipython3",
   "version": "3.12.0"
  },
  "orig_nbformat": 4,
  "vscode": {
   "interpreter": {
    "hash": "aee8b7b246df8f9039afb4144a1f6fd8d2ca17a180786b69acc140d282b71a49"
   }
  }
 },
 "nbformat": 4,
 "nbformat_minor": 2
}
